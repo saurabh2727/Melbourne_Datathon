{
 "cells": [
  {
   "cell_type": "code",
   "execution_count": 1,
   "metadata": {
    "collapsed": true
   },
   "outputs": [],
   "source": [
    "import pandas as pd\n",
    "import matplotlib.pyplot as plt\n",
    "import numpy as np\n",
    "import seaborn as sns\n",
    "from matplotlib.pyplot import figure, show\n",
    "from sklearn.model_selection import cross_val_score\n",
    "from sklearn.tree import DecisionTreeRegressor\n",
    "from sklearn.pipeline import Pipeline\n",
    "from sklearn.model_selection import GridSearchCV\n",
    "from sklearn.feature_selection import SelectKBest, f_regression, mutual_info_regression\n",
    "from sklearn.metrics import mean_squared_error"
   ]
  },
  {
   "cell_type": "code",
   "execution_count": 2,
   "metadata": {
    "collapsed": true
   },
   "outputs": [],
   "source": [
    "#feePerc <- 0.0015 #fixed const for the competition\n",
    "#longThresh <- 0.002 #the value the prediction has to be higher than\n",
    "#longRemainWindow <- 12 #the number of hours to remain in a trade\n"
   ]
  },
  {
   "cell_type": "code",
   "execution_count": 3,
   "metadata": {
    "collapsed": true
   },
   "outputs": [],
   "source": [
    "df = pd.read_csv(\"C:/Users/saurabh/Desktop/Datathon/Data/melbdatathon2019_buylowsellhigh/training_set.csv\")"
   ]
  },
  {
   "cell_type": "code",
   "execution_count": 4,
   "metadata": {},
   "outputs": [
    {
     "data": {
      "text/plain": [
       "Unnamed: 0           1856917\n",
       "keys_pair            1856917\n",
       "minutesSinceStart    1856917\n",
       "gap                  1856917\n",
       "barClosePrice        1856917\n",
       "tradePrice           1856917\n",
       "Lpred1b              1856917\n",
       "Lpred2b              1856917\n",
       "Lpred3b              1856917\n",
       "Lpred4b              1856917\n",
       "Lpred5b              1856917\n",
       "Lpred6b              1856917\n",
       "Lpred7b              1856917\n",
       "Lpred8b              1856917\n",
       "Lpred9b              1856917\n",
       "Lpred10b             1856917\n",
       "Lpred11b             1856917\n",
       "Lpred12b             1856917\n",
       "Lpred13b             1856917\n",
       "Lpred14b             1856917\n",
       "dtype: int64"
      ]
     },
     "execution_count": 4,
     "metadata": {},
     "output_type": "execute_result"
    }
   ],
   "source": [
    "df.count()"
   ]
  },
  {
   "cell_type": "code",
   "execution_count": 5,
   "metadata": {
    "collapsed": true
   },
   "outputs": [],
   "source": [
    "df = df.loc[:, ~df.columns.str.contains('^Unnamed')]"
   ]
  },
  {
   "cell_type": "code",
   "execution_count": 6,
   "metadata": {
    "collapsed": true
   },
   "outputs": [],
   "source": [
    "df = df.sample(20000)"
   ]
  },
  {
   "cell_type": "code",
   "execution_count": 7,
   "metadata": {},
   "outputs": [
    {
     "data": {
      "text/html": [
       "<div>\n",
       "<style scoped>\n",
       "    .dataframe tbody tr th:only-of-type {\n",
       "        vertical-align: middle;\n",
       "    }\n",
       "\n",
       "    .dataframe tbody tr th {\n",
       "        vertical-align: top;\n",
       "    }\n",
       "\n",
       "    .dataframe thead th {\n",
       "        text-align: right;\n",
       "    }\n",
       "</style>\n",
       "<table border=\"1\" class=\"dataframe\">\n",
       "  <thead>\n",
       "    <tr style=\"text-align: right;\">\n",
       "      <th></th>\n",
       "      <th>minutesSinceStart</th>\n",
       "      <th>gap</th>\n",
       "      <th>barClosePrice</th>\n",
       "      <th>tradePrice</th>\n",
       "      <th>Lpred1b</th>\n",
       "      <th>Lpred2b</th>\n",
       "      <th>Lpred3b</th>\n",
       "      <th>Lpred4b</th>\n",
       "      <th>Lpred5b</th>\n",
       "      <th>Lpred6b</th>\n",
       "      <th>Lpred7b</th>\n",
       "      <th>Lpred8b</th>\n",
       "      <th>Lpred9b</th>\n",
       "      <th>Lpred10b</th>\n",
       "      <th>Lpred11b</th>\n",
       "      <th>Lpred12b</th>\n",
       "      <th>Lpred13b</th>\n",
       "      <th>Lpred14b</th>\n",
       "    </tr>\n",
       "  </thead>\n",
       "  <tbody>\n",
       "    <tr>\n",
       "      <th>count</th>\n",
       "      <td>20000.000000</td>\n",
       "      <td>20000.00000</td>\n",
       "      <td>20000.000000</td>\n",
       "      <td>20000.000000</td>\n",
       "      <td>20000.000000</td>\n",
       "      <td>20000.000000</td>\n",
       "      <td>20000.000000</td>\n",
       "      <td>20000.000000</td>\n",
       "      <td>20000.000000</td>\n",
       "      <td>20000.000000</td>\n",
       "      <td>20000.000000</td>\n",
       "      <td>20000.000000</td>\n",
       "      <td>20000.000000</td>\n",
       "      <td>20000.000000</td>\n",
       "      <td>20000.000000</td>\n",
       "      <td>20000.000000</td>\n",
       "      <td>20000.000000</td>\n",
       "      <td>20000.000000</td>\n",
       "    </tr>\n",
       "    <tr>\n",
       "      <th>mean</th>\n",
       "      <td>351921.184000</td>\n",
       "      <td>0.00535</td>\n",
       "      <td>536.236303</td>\n",
       "      <td>536.241060</td>\n",
       "      <td>-0.000138</td>\n",
       "      <td>-0.000290</td>\n",
       "      <td>-0.000430</td>\n",
       "      <td>-0.000555</td>\n",
       "      <td>-0.000674</td>\n",
       "      <td>-0.000781</td>\n",
       "      <td>-0.000967</td>\n",
       "      <td>-0.001332</td>\n",
       "      <td>-0.001662</td>\n",
       "      <td>-0.002172</td>\n",
       "      <td>-0.003429</td>\n",
       "      <td>-0.004341</td>\n",
       "      <td>-0.004626</td>\n",
       "      <td>-0.004934</td>\n",
       "    </tr>\n",
       "    <tr>\n",
       "      <th>std</th>\n",
       "      <td>206669.950015</td>\n",
       "      <td>0.07295</td>\n",
       "      <td>1783.751958</td>\n",
       "      <td>1783.739406</td>\n",
       "      <td>0.000813</td>\n",
       "      <td>0.001190</td>\n",
       "      <td>0.001498</td>\n",
       "      <td>0.001736</td>\n",
       "      <td>0.001896</td>\n",
       "      <td>0.002060</td>\n",
       "      <td>0.002334</td>\n",
       "      <td>0.002699</td>\n",
       "      <td>0.002868</td>\n",
       "      <td>0.002958</td>\n",
       "      <td>0.002830</td>\n",
       "      <td>0.002971</td>\n",
       "      <td>0.003108</td>\n",
       "      <td>0.003194</td>\n",
       "    </tr>\n",
       "    <tr>\n",
       "      <th>min</th>\n",
       "      <td>5.000000</td>\n",
       "      <td>0.00000</td>\n",
       "      <td>0.000007</td>\n",
       "      <td>0.000007</td>\n",
       "      <td>-0.021184</td>\n",
       "      <td>-0.026458</td>\n",
       "      <td>-0.027700</td>\n",
       "      <td>-0.028658</td>\n",
       "      <td>-0.029604</td>\n",
       "      <td>-0.031234</td>\n",
       "      <td>-0.028987</td>\n",
       "      <td>-0.028535</td>\n",
       "      <td>-0.028674</td>\n",
       "      <td>-0.029598</td>\n",
       "      <td>-0.030739</td>\n",
       "      <td>-0.026947</td>\n",
       "      <td>-0.027101</td>\n",
       "      <td>-0.024135</td>\n",
       "    </tr>\n",
       "    <tr>\n",
       "      <th>25%</th>\n",
       "      <td>173923.750000</td>\n",
       "      <td>0.00000</td>\n",
       "      <td>0.000213</td>\n",
       "      <td>0.000213</td>\n",
       "      <td>-0.000445</td>\n",
       "      <td>-0.000793</td>\n",
       "      <td>-0.001102</td>\n",
       "      <td>-0.001369</td>\n",
       "      <td>-0.001593</td>\n",
       "      <td>-0.001787</td>\n",
       "      <td>-0.002131</td>\n",
       "      <td>-0.002729</td>\n",
       "      <td>-0.003213</td>\n",
       "      <td>-0.003983</td>\n",
       "      <td>-0.005456</td>\n",
       "      <td>-0.006582</td>\n",
       "      <td>-0.007011</td>\n",
       "      <td>-0.007366</td>\n",
       "    </tr>\n",
       "    <tr>\n",
       "      <th>50%</th>\n",
       "      <td>348972.500000</td>\n",
       "      <td>0.00000</td>\n",
       "      <td>0.014923</td>\n",
       "      <td>0.014928</td>\n",
       "      <td>-0.000151</td>\n",
       "      <td>-0.000317</td>\n",
       "      <td>-0.000463</td>\n",
       "      <td>-0.000596</td>\n",
       "      <td>-0.000732</td>\n",
       "      <td>-0.000850</td>\n",
       "      <td>-0.001040</td>\n",
       "      <td>-0.001483</td>\n",
       "      <td>-0.001863</td>\n",
       "      <td>-0.002484</td>\n",
       "      <td>-0.003617</td>\n",
       "      <td>-0.004425</td>\n",
       "      <td>-0.004700</td>\n",
       "      <td>-0.005061</td>\n",
       "    </tr>\n",
       "    <tr>\n",
       "      <th>75%</th>\n",
       "      <td>526175.000000</td>\n",
       "      <td>0.00000</td>\n",
       "      <td>6.580750</td>\n",
       "      <td>6.536262</td>\n",
       "      <td>0.000165</td>\n",
       "      <td>0.000206</td>\n",
       "      <td>0.000235</td>\n",
       "      <td>0.000236</td>\n",
       "      <td>0.000204</td>\n",
       "      <td>0.000177</td>\n",
       "      <td>0.000109</td>\n",
       "      <td>-0.000082</td>\n",
       "      <td>-0.000329</td>\n",
       "      <td>-0.000639</td>\n",
       "      <td>-0.001536</td>\n",
       "      <td>-0.002152</td>\n",
       "      <td>-0.002309</td>\n",
       "      <td>-0.002540</td>\n",
       "    </tr>\n",
       "    <tr>\n",
       "      <th>max</th>\n",
       "      <td>712650.000000</td>\n",
       "      <td>1.00000</td>\n",
       "      <td>12750.000000</td>\n",
       "      <td>12769.070000</td>\n",
       "      <td>0.012967</td>\n",
       "      <td>0.013939</td>\n",
       "      <td>0.016081</td>\n",
       "      <td>0.016634</td>\n",
       "      <td>0.018037</td>\n",
       "      <td>0.018775</td>\n",
       "      <td>0.022703</td>\n",
       "      <td>0.030022</td>\n",
       "      <td>0.038358</td>\n",
       "      <td>0.017479</td>\n",
       "      <td>0.014665</td>\n",
       "      <td>0.012909</td>\n",
       "      <td>0.011503</td>\n",
       "      <td>0.010445</td>\n",
       "    </tr>\n",
       "  </tbody>\n",
       "</table>\n",
       "</div>"
      ],
      "text/plain": [
       "       minutesSinceStart          gap  barClosePrice    tradePrice  \\\n",
       "count       20000.000000  20000.00000   20000.000000  20000.000000   \n",
       "mean       351921.184000      0.00535     536.236303    536.241060   \n",
       "std        206669.950015      0.07295    1783.751958   1783.739406   \n",
       "min             5.000000      0.00000       0.000007      0.000007   \n",
       "25%        173923.750000      0.00000       0.000213      0.000213   \n",
       "50%        348972.500000      0.00000       0.014923      0.014928   \n",
       "75%        526175.000000      0.00000       6.580750      6.536262   \n",
       "max        712650.000000      1.00000   12750.000000  12769.070000   \n",
       "\n",
       "            Lpred1b       Lpred2b       Lpred3b       Lpred4b       Lpred5b  \\\n",
       "count  20000.000000  20000.000000  20000.000000  20000.000000  20000.000000   \n",
       "mean      -0.000138     -0.000290     -0.000430     -0.000555     -0.000674   \n",
       "std        0.000813      0.001190      0.001498      0.001736      0.001896   \n",
       "min       -0.021184     -0.026458     -0.027700     -0.028658     -0.029604   \n",
       "25%       -0.000445     -0.000793     -0.001102     -0.001369     -0.001593   \n",
       "50%       -0.000151     -0.000317     -0.000463     -0.000596     -0.000732   \n",
       "75%        0.000165      0.000206      0.000235      0.000236      0.000204   \n",
       "max        0.012967      0.013939      0.016081      0.016634      0.018037   \n",
       "\n",
       "            Lpred6b       Lpred7b       Lpred8b       Lpred9b      Lpred10b  \\\n",
       "count  20000.000000  20000.000000  20000.000000  20000.000000  20000.000000   \n",
       "mean      -0.000781     -0.000967     -0.001332     -0.001662     -0.002172   \n",
       "std        0.002060      0.002334      0.002699      0.002868      0.002958   \n",
       "min       -0.031234     -0.028987     -0.028535     -0.028674     -0.029598   \n",
       "25%       -0.001787     -0.002131     -0.002729     -0.003213     -0.003983   \n",
       "50%       -0.000850     -0.001040     -0.001483     -0.001863     -0.002484   \n",
       "75%        0.000177      0.000109     -0.000082     -0.000329     -0.000639   \n",
       "max        0.018775      0.022703      0.030022      0.038358      0.017479   \n",
       "\n",
       "           Lpred11b      Lpred12b      Lpred13b      Lpred14b  \n",
       "count  20000.000000  20000.000000  20000.000000  20000.000000  \n",
       "mean      -0.003429     -0.004341     -0.004626     -0.004934  \n",
       "std        0.002830      0.002971      0.003108      0.003194  \n",
       "min       -0.030739     -0.026947     -0.027101     -0.024135  \n",
       "25%       -0.005456     -0.006582     -0.007011     -0.007366  \n",
       "50%       -0.003617     -0.004425     -0.004700     -0.005061  \n",
       "75%       -0.001536     -0.002152     -0.002309     -0.002540  \n",
       "max        0.014665      0.012909      0.011503      0.010445  "
      ]
     },
     "execution_count": 7,
     "metadata": {},
     "output_type": "execute_result"
    }
   ],
   "source": [
    "df.describe()"
   ]
  },
  {
   "cell_type": "code",
   "execution_count": 8,
   "metadata": {},
   "outputs": [
    {
     "data": {
      "text/plain": [
       "count    2.000000e+04\n",
       "mean     4.205775e-02\n",
       "std      1.399021e-01\n",
       "min      0.000000e+00\n",
       "25%      1.619655e-08\n",
       "50%      1.169861e-06\n",
       "75%      5.161367e-04\n",
       "max      1.000000e+00\n",
       "Name: barClosePrice, dtype: float64"
      ]
     },
     "execution_count": 8,
     "metadata": {},
     "output_type": "execute_result"
    }
   ],
   "source": [
    "def normalize(column):\n",
    "    upper = column.max()\n",
    "    lower = column.min()\n",
    "    y = (column - lower)/(upper-lower)\n",
    "    return y\n",
    "\n",
    "col_normalized = normalize(df.barClosePrice)\n",
    "col_normalized.describe()"
   ]
  },
  {
   "cell_type": "code",
   "execution_count": 11,
   "metadata": {},
   "outputs": [
    {
     "data": {
      "text/plain": [
       "count    20000.000000\n",
       "mean         0.901897\n",
       "std          0.668032\n",
       "min          0.283894\n",
       "25%          0.408943\n",
       "50%          0.640948\n",
       "75%          1.096571\n",
       "max          2.718282\n",
       "Name: barClosePrice, dtype: float64"
      ]
     },
     "execution_count": 11,
     "metadata": {},
     "output_type": "execute_result"
    }
   ],
   "source": [
    "log_max = np.log(df.barClosePrice.max())\n",
    "col_log_max_root = df.barClosePrice**(1/log_max)\n",
    "col_log_max_root.describe()"
   ]
  },
  {
   "cell_type": "code",
   "execution_count": 12,
   "metadata": {},
   "outputs": [
    {
     "data": {
      "text/plain": [
       "count    20000.000000\n",
       "mean         0.253864\n",
       "std          0.274415\n",
       "min          0.000000\n",
       "25%          0.051368\n",
       "50%          0.146671\n",
       "75%          0.333832\n",
       "max          1.000000\n",
       "Name: barClosePrice, dtype: float64"
      ]
     },
     "execution_count": 12,
     "metadata": {},
     "output_type": "execute_result"
    }
   ],
   "source": [
    "col_log_max_root_normalized = normalize(col_log_max_root)\n",
    "col_log_max_root_normalized.describe()"
   ]
  },
  {
   "cell_type": "code",
   "execution_count": 13,
   "metadata": {},
   "outputs": [
    {
     "data": {
      "text/plain": [
       "count    20000.000000\n",
       "mean         0.287620\n",
       "std          0.426077\n",
       "min          0.000007\n",
       "25%          0.000213\n",
       "50%          0.014921\n",
       "75%          0.811528\n",
       "max          1.000000\n",
       "Name: barClosePrice, dtype: float64"
      ]
     },
     "execution_count": 13,
     "metadata": {},
     "output_type": "execute_result"
    }
   ],
   "source": [
    "col_hyperbolic_tangent = np.tanh(df.barClosePrice)\n",
    "col_hyperbolic_tangent.describe()"
   ]
  },
  {
   "cell_type": "code",
   "execution_count": 14,
   "metadata": {},
   "outputs": [
    {
     "data": {
      "text/plain": [
       "count    20000.000000\n",
       "mean         0.499990\n",
       "std          0.288703\n",
       "min          0.000000\n",
       "25%          0.250000\n",
       "50%          0.500000\n",
       "75%          0.750000\n",
       "max          1.000000\n",
       "Name: barClosePrice, dtype: float64"
      ]
     },
     "execution_count": 14,
     "metadata": {},
     "output_type": "execute_result"
    }
   ],
   "source": [
    "size = len(df.barClosePrice)-1\n",
    "col_percentile_linearization = df.barClosePrice.rank(method='min').apply(lambda x: (x-1)/size)\n",
    "col_percentile_linearization.describe()"
   ]
  },
  {
   "cell_type": "code",
   "execution_count": 15,
   "metadata": {},
   "outputs": [
    {
     "data": {
      "text/plain": [
       "count    20000.000000\n",
       "mean         2.580484\n",
       "std          5.111084\n",
       "min          0.018917\n",
       "25%          0.059747\n",
       "50%          0.246196\n",
       "75%          1.457621\n",
       "max         23.361644\n",
       "Name: barClosePrice, dtype: float64"
      ]
     },
     "execution_count": 15,
     "metadata": {},
     "output_type": "execute_result"
    }
   ],
   "source": [
    "col_cube_root = df.barClosePrice**(1/3)\n",
    "col_cube_root.describe()"
   ]
  },
  {
   "cell_type": "code",
   "execution_count": 16,
   "metadata": {},
   "outputs": [
    {
     "data": {
      "text/plain": [
       "count    20000.000000\n",
       "mean         0.109737\n",
       "std          0.218958\n",
       "min          0.000000\n",
       "25%          0.001749\n",
       "50%          0.009737\n",
       "75%          0.061634\n",
       "max          1.000000\n",
       "Name: barClosePrice, dtype: float64"
      ]
     },
     "execution_count": 16,
     "metadata": {},
     "output_type": "execute_result"
    }
   ],
   "source": [
    "col_cube_root_normalized = normalize(col_cube_root)\n",
    "col_cube_root_normalized.describe()"
   ]
  },
  {
   "cell_type": "code",
   "execution_count": 17,
   "metadata": {},
   "outputs": [
    {
     "data": {
      "text/plain": [
       "count    20000.000000\n",
       "mean         0.634917\n",
       "std          0.212923\n",
       "min          0.500002\n",
       "25%          0.500053\n",
       "50%          0.503731\n",
       "75%          0.793840\n",
       "max          1.000000\n",
       "Name: barClosePrice, dtype: float64"
      ]
     },
     "execution_count": 17,
     "metadata": {},
     "output_type": "execute_result"
    }
   ],
   "source": [
    "def sigmoid(x):\n",
    "    e = np.exp(1)\n",
    "    y = 1/(1+e**(-x))\n",
    "    return y\n",
    "\n",
    "col_sigmoid = sigmoid(df.barClosePrice)\n",
    "col_sigmoid.describe()"
   ]
  },
  {
   "cell_type": "code",
   "execution_count": 18,
   "metadata": {},
   "outputs": [
    {
     "data": {
      "text/plain": [
       "count    20000.000000\n",
       "mean         1.595402\n",
       "std          2.840688\n",
       "min          0.000007\n",
       "25%          0.000213\n",
       "50%          0.014812\n",
       "75%          1.307304\n",
       "max          9.453365\n",
       "Name: barClosePrice, dtype: float64"
      ]
     },
     "execution_count": 18,
     "metadata": {},
     "output_type": "execute_result"
    }
   ],
   "source": [
    "col_log = np.log(df.barClosePrice + 1)\n",
    "col_log.describe()"
   ]
  },
  {
   "cell_type": "markdown",
   "metadata": {},
   "source": [
    "df.skew(axis = 0, skipna = True) "
   ]
  },
  {
   "cell_type": "code",
   "execution_count": 19,
   "metadata": {
    "collapsed": true
   },
   "outputs": [],
   "source": [
    "#target = df['tradePrice']\n",
    "features = df.drop(['gap','keys_pair', 'barClosePrice', 'tradePrice', 'minutesSinceStart'], axis=1)\n",
    "#target = ['col_percentile_linearization','col_log_max_root_normalized', 'col_hyperbolic_tangent', 'col_log_max_root', 'col_cube_root', 'col_cube_root_normalized', 'col_normalized', 'col_log']\n",
    "#for i in target:\n",
    "    \n",
    "#target = df['barClosePrice']"
   ]
  },
  {
   "cell_type": "code",
   "execution_count": 83,
   "metadata": {
    "collapsed": true
   },
   "outputs": [],
   "source": [
    "target = col_log_max_root_normalized"
   ]
  },
  {
   "cell_type": "code",
   "execution_count": 84,
   "metadata": {
    "collapsed": true
   },
   "outputs": [],
   "source": [
    "# scaling the features using standard scaler\n",
    "from sklearn import preprocessing\n",
    "scaler = preprocessing.StandardScaler()\n",
    "features = scaler.fit_transform(features)"
   ]
  },
  {
   "cell_type": "code",
   "execution_count": 85,
   "metadata": {},
   "outputs": [
    {
     "data": {
      "text/plain": [
       "array([[ 1.53328349,  1.70290811,  1.59445598, ...,  1.43448923,\n",
       "         1.6628189 ,  1.72735374],\n",
       "       [ 0.40243323,  0.43919425,  0.43181663, ...,  1.27141439,\n",
       "         1.37348579,  1.52191194],\n",
       "       [-0.28525201, -0.33313963, -0.30910623, ...,  0.46254825,\n",
       "         0.61765216,  0.77247003],\n",
       "       ...,\n",
       "       [-0.2516198 , -0.05081984,  0.31716041, ...,  1.67300817,\n",
       "         1.70214689,  1.51265641],\n",
       "       [-0.213779  , -0.27105684, -0.32584485, ..., -0.30845758,\n",
       "        -0.47287966, -0.47442822],\n",
       "       [-0.35534043, -0.06925181,  0.06572893, ..., -0.84039598,\n",
       "        -0.85218848, -0.85889582]])"
      ]
     },
     "execution_count": 85,
     "metadata": {},
     "output_type": "execute_result"
    }
   ],
   "source": [
    "features"
   ]
  },
  {
   "cell_type": "code",
   "execution_count": 86,
   "metadata": {
    "collapsed": true
   },
   "outputs": [],
   "source": [
    "#spliting the training and testing data, keeping 20% for testing and rest for training. \n",
    "from sklearn.model_selection import train_test_split\n",
    "features_train, features_test, target_train, target_test = train_test_split(features, col_hyperbolic_tangent, test_size = 0.20, random_state = 42) "
   ]
  },
  {
   "cell_type": "code",
   "execution_count": 87,
   "metadata": {
    "collapsed": true
   },
   "outputs": [],
   "source": [
    "from sklearn.base import BaseEstimator, TransformerMixin\n",
    "\n",
    "# custom function for RFI feature selection inside a pipeline\n",
    "# here we use n_estimators=100\n",
    "class RFIFeatureSelector(BaseEstimator, TransformerMixin):\n",
    "    \n",
    "    # class constructor \n",
    "    # make sure class attributes end with a \"_\"\n",
    "    # per scikit-learn convention to avoid errors\n",
    "    def __init__(self, n_features_=100):\n",
    "        self.n_features_ = n_features_\n",
    "        self.fs_indices_ = None\n",
    "\n",
    "    # override the fit function\n",
    "    def fit(self, X, y):\n",
    "        from sklearn.ensemble import RandomForestRegressor\n",
    "        from numpy import argsort\n",
    "        model_rfi = RandomForestRegressor(n_estimators=100)\n",
    "        model_rfi.fit(X, y)\n",
    "        self.fs_indices_ = argsort(model_rfi.feature_importances_)[::-1][0:self.n_features_] \n",
    "        return self \n",
    "    \n",
    "    # override the transform function\n",
    "    def transform(self, X, y=None):\n",
    "        return X[:, self.fs_indices_]"
   ]
  },
  {
   "cell_type": "code",
   "execution_count": 88,
   "metadata": {},
   "outputs": [
    {
     "name": "stdout",
     "output_type": "stream",
     "text": [
      "Fitting 5 folds for each of 1 candidates, totalling 5 fits\n"
     ]
    },
    {
     "name": "stderr",
     "output_type": "stream",
     "text": [
      "[Parallel(n_jobs=-1)]: Using backend LokyBackend with 8 concurrent workers.\n",
      "[Parallel(n_jobs=-1)]: Done   2 out of   5 | elapsed:   49.2s remaining:  1.2min\n",
      "[Parallel(n_jobs=-1)]: Done   5 out of   5 | elapsed:   52.0s finished\n",
      "C:\\Users\\saurabh\\Anaconda3\\lib\\site-packages\\sklearn\\ensemble\\forest.py:245: FutureWarning: The default value of n_estimators will change from 10 in version 0.20 to 100 in 0.22.\n",
      "  \"10 in version 0.20 to 100 in 0.22.\", FutureWarning)\n"
     ]
    },
    {
     "name": "stdout",
     "output_type": "stream",
     "text": [
      "Wall time: 1min 48s\n"
     ]
    },
    {
     "data": {
      "text/plain": [
       "GridSearchCV(cv=5, error_score='raise-deprecating',\n",
       "             estimator=Pipeline(memory=None,\n",
       "                                steps=[('rfi_fs',\n",
       "                                        RFIFeatureSelector(n_features_=100)),\n",
       "                                       ('rf',\n",
       "                                        RandomForestRegressor(bootstrap=True,\n",
       "                                                              criterion='mse',\n",
       "                                                              max_depth=None,\n",
       "                                                              max_features='auto',\n",
       "                                                              max_leaf_nodes=None,\n",
       "                                                              min_impurity_decrease=0.0,\n",
       "                                                              min_impurity_split=None,\n",
       "                                                              min_samples_leaf=1,\n",
       "                                                              min_samples_split=2,\n",
       "                                                              min_weight_fraction_leaf=0.0,\n",
       "                                                              n_estimators='warn',\n",
       "                                                              n_jobs=None,\n",
       "                                                              oob_score=False,\n",
       "                                                              random_state=999,\n",
       "                                                              verbose=0,\n",
       "                                                              warm_start=False))],\n",
       "                                verbose=False),\n",
       "             iid='warn', n_jobs=-1,\n",
       "             param_grid={'rf__max_depth': [10], 'rf__min_samples_split': [2],\n",
       "                         'rfi_fs__n_features_': [14]},\n",
       "             pre_dispatch='2*n_jobs', refit=True, return_train_score=False,\n",
       "             scoring='neg_mean_squared_error', verbose=1)"
      ]
     },
     "execution_count": 88,
     "metadata": {},
     "output_type": "execute_result"
    }
   ],
   "source": [
    "%%time\n",
    "from sklearn.ensemble import RandomForestRegressor\n",
    "from sklearn.pipeline import Pipeline\n",
    "from sklearn.model_selection import GridSearchCV\n",
    "\n",
    "\n",
    "rf_regressor = RandomForestRegressor(random_state=999)\n",
    "\n",
    "pipe_RF = Pipeline([('rfi_fs', RFIFeatureSelector()),\n",
    "                    ('rf', rf_regressor)])\n",
    "\n",
    "\n",
    "\n",
    "params_pipe_RF = {'rfi_fs__n_features_': [features.shape[1]],                  \n",
    "                  'rf__max_depth': [10], \n",
    "                  'rf__min_samples_split': [2]}\n",
    " \n",
    "    \n",
    "\n",
    "\n",
    "gs_pipe_RF  = GridSearchCV(estimator=pipe_RF, \n",
    "                           param_grid=params_pipe_RF, \n",
    "                           cv=5,\n",
    "                           n_jobs=-1,\n",
    "                           scoring= 'neg_mean_squared_error', \n",
    "                           verbose=1)\n",
    "\n",
    "gs_pipe_RF.fit(features_train, target_train);"
   ]
  },
  {
   "cell_type": "code",
   "execution_count": 89,
   "metadata": {},
   "outputs": [
    {
     "data": {
      "text/plain": [
       "(20000, 14)"
      ]
     },
     "execution_count": 89,
     "metadata": {},
     "output_type": "execute_result"
    }
   ],
   "source": [
    "features.shape"
   ]
  },
  {
   "cell_type": "code",
   "execution_count": 90,
   "metadata": {},
   "outputs": [
    {
     "name": "stdout",
     "output_type": "stream",
     "text": [
      "Best Grid Score: -0.10124813915731054\n",
      "Best Parameters: {'rf__max_depth': 10, 'rf__min_samples_split': 2, 'rfi_fs__n_features_': 14}\n"
     ]
    }
   ],
   "source": [
    "# Grid search has returned following best paramenters and score\n",
    "print('Best Grid Score:', gs_pipe_RF.best_score_)\n",
    "print('Best Parameters:', gs_pipe_RF.best_params_)"
   ]
  },
  {
   "cell_type": "code",
   "execution_count": 91,
   "metadata": {},
   "outputs": [
    {
     "name": "stdout",
     "output_type": "stream",
     "text": [
      "test error: RMSE  0.32399434545273964\n",
      "test error: MAE  0.22408464932004893\n",
      "training error: RMSE  0.26378328202048473\n"
     ]
    }
   ],
   "source": [
    "import joblib\n",
    "from sklearn.metrics import mean_squared_error\n",
    "from sklearn.metrics import mean_absolute_error\n",
    "joblib.dump(gs_pipe_RF.best_estimator_, 'best_rf.pkl', compress = 1)\n",
    "Best_Model = joblib.load('best_rf.pkl')\n",
    "\n",
    "target_test_pred = Best_Model.predict(features_test)\n",
    "target_train_pred = Best_Model.predict(features_train)\n",
    "\n",
    "# test error\n",
    "print(\"test error: RMSE \",np.sqrt(mean_squared_error(target_test_pred, target_test)))\n",
    "\n",
    "# test error\n",
    "print(\"test error: MAE \",mean_absolute_error(target_test_pred, target_test))\n",
    "\n",
    "# training error\n",
    "print(\"training error: RMSE \",np.sqrt(mean_squared_error(target_train_pred, target_train)))"
   ]
  },
  {
   "cell_type": "code",
   "execution_count": 1384,
   "metadata": {
    "collapsed": true
   },
   "outputs": [],
   "source": [
    "# Use the model's prediction for validation set\n",
    "validation_df = pd.read_csv(\"C:/Users/saurabh/Desktop/Datathon/Data/melbdatathon2019_buylowsellhigh/public_set.csv\")\n"
   ]
  },
  {
   "cell_type": "code",
   "execution_count": 1385,
   "metadata": {
    "collapsed": true
   },
   "outputs": [],
   "source": [
    "validation_df = validation_df.iloc[3000001:, : ]"
   ]
  },
  {
   "cell_type": "code",
   "execution_count": 1386,
   "metadata": {
    "collapsed": true
   },
   "outputs": [],
   "source": [
    "# remove the first column as it was unnamed and off no use\n",
    "validation_df = validation_df.loc[:, ~validation_df.columns.str.contains('^Unnamed')]\n",
    "validation_features = validation_df.drop(['gap','keys_pair', 'barClosePrice', 'tradePrice', 'minutesSinceStart'], axis=1)\n",
    "validation_features_scaled = scaler.fit_transform(validation_features)\n"
   ]
  },
  {
   "cell_type": "code",
   "execution_count": 1387,
   "metadata": {
    "collapsed": true
   },
   "outputs": [],
   "source": [
    "predictions = pd.DataFrame()\n",
    "predictions['keys_pair'] = validation_df['keys_pair']\n",
    "predictions['minutesSinceStart'] = validation_df['minutesSinceStart']\n",
    "#predictions['tradePrice'] = validation_df['tradePrice']\n",
    "#predictions['target'] = (validation_target)\n",
    "prediction  = Best_Model.predict(validation_features_scaled)\n",
    "predictions['model_prediction'] = (prediction)"
   ]
  },
  {
   "cell_type": "code",
   "execution_count": 1388,
   "metadata": {
    "collapsed": true
   },
   "outputs": [],
   "source": [
    "difference_df = pd.DataFrame()\n",
    "difference_df['keys_pair'] = predictions['keys_pair']\n",
    "difference_df['enterTime'] = predictions['minutesSinceStart']\n",
    "difference_df['model_prediction'] = predictions['model_prediction']\n",
    "difference_df['enterPrice'] = predictions['model_prediction']\n",
    "keys_pair_group = predictions.groupby(['keys_pair'])   \n"
   ]
  },
  {
   "cell_type": "code",
   "execution_count": 1389,
   "metadata": {},
   "outputs": [
    {
     "name": "stdout",
     "output_type": "stream",
     "text": [
      "Wall time: 9.73 s\n"
     ]
    }
   ],
   "source": [
    "%%time\n",
    "col_names = []\n",
    "diff_range = 1152                             \n",
    "for pairs in keys_pair_group:\n",
    "    for i in range(1, diff_range+1):\n",
    "        col_names.append(str(i))\n",
    "        difference_df[str(i)] = predictions['model_prediction'].diff(i).shift(periods=-i)\n",
    "    difference_df['d_id_max'] = difference_df[col_names].idxmax(axis=1)      "
   ]
  },
  {
   "cell_type": "code",
   "execution_count": 1390,
   "metadata": {},
   "outputs": [
    {
     "data": {
      "text/html": [
       "<div>\n",
       "<style scoped>\n",
       "    .dataframe tbody tr th:only-of-type {\n",
       "        vertical-align: middle;\n",
       "    }\n",
       "\n",
       "    .dataframe tbody tr th {\n",
       "        vertical-align: top;\n",
       "    }\n",
       "\n",
       "    .dataframe thead th {\n",
       "        text-align: right;\n",
       "    }\n",
       "</style>\n",
       "<table border=\"1\" class=\"dataframe\">\n",
       "  <thead>\n",
       "    <tr style=\"text-align: right;\">\n",
       "      <th></th>\n",
       "      <th>keys_pair</th>\n",
       "      <th>enterTime</th>\n",
       "      <th>model_prediction</th>\n",
       "      <th>enterPrice</th>\n",
       "      <th>1</th>\n",
       "      <th>2</th>\n",
       "      <th>3</th>\n",
       "      <th>4</th>\n",
       "      <th>5</th>\n",
       "      <th>6</th>\n",
       "      <th>...</th>\n",
       "      <th>1144</th>\n",
       "      <th>1145</th>\n",
       "      <th>1146</th>\n",
       "      <th>1147</th>\n",
       "      <th>1148</th>\n",
       "      <th>1149</th>\n",
       "      <th>1150</th>\n",
       "      <th>1151</th>\n",
       "      <th>1152</th>\n",
       "      <th>d_id_max</th>\n",
       "    </tr>\n",
       "  </thead>\n",
       "  <tbody>\n",
       "    <tr>\n",
       "      <th>3000001</th>\n",
       "      <td>pair_22</td>\n",
       "      <td>451015.0</td>\n",
       "      <td>0.041386</td>\n",
       "      <td>0.041386</td>\n",
       "      <td>0.000000</td>\n",
       "      <td>0.000000</td>\n",
       "      <td>0.000000</td>\n",
       "      <td>0.000000</td>\n",
       "      <td>0.003276</td>\n",
       "      <td>0.000000</td>\n",
       "      <td>...</td>\n",
       "      <td>-0.015521</td>\n",
       "      <td>-0.013343</td>\n",
       "      <td>-0.013343</td>\n",
       "      <td>-0.013343</td>\n",
       "      <td>-0.013343</td>\n",
       "      <td>-0.013343</td>\n",
       "      <td>-0.013343</td>\n",
       "      <td>-0.013343</td>\n",
       "      <td>-0.013343</td>\n",
       "      <td>289</td>\n",
       "    </tr>\n",
       "    <tr>\n",
       "      <th>3000002</th>\n",
       "      <td>pair_22</td>\n",
       "      <td>451020.0</td>\n",
       "      <td>0.041386</td>\n",
       "      <td>0.041386</td>\n",
       "      <td>0.000000</td>\n",
       "      <td>0.000000</td>\n",
       "      <td>0.000000</td>\n",
       "      <td>0.003276</td>\n",
       "      <td>0.000000</td>\n",
       "      <td>0.003276</td>\n",
       "      <td>...</td>\n",
       "      <td>-0.013343</td>\n",
       "      <td>-0.013343</td>\n",
       "      <td>-0.013343</td>\n",
       "      <td>-0.013343</td>\n",
       "      <td>-0.013343</td>\n",
       "      <td>-0.013343</td>\n",
       "      <td>-0.013343</td>\n",
       "      <td>-0.013343</td>\n",
       "      <td>-0.013343</td>\n",
       "      <td>288</td>\n",
       "    </tr>\n",
       "    <tr>\n",
       "      <th>3000003</th>\n",
       "      <td>pair_22</td>\n",
       "      <td>451025.0</td>\n",
       "      <td>0.041386</td>\n",
       "      <td>0.041386</td>\n",
       "      <td>0.000000</td>\n",
       "      <td>0.000000</td>\n",
       "      <td>0.003276</td>\n",
       "      <td>0.000000</td>\n",
       "      <td>0.003276</td>\n",
       "      <td>0.000000</td>\n",
       "      <td>...</td>\n",
       "      <td>-0.013343</td>\n",
       "      <td>-0.013343</td>\n",
       "      <td>-0.013343</td>\n",
       "      <td>-0.013343</td>\n",
       "      <td>-0.013343</td>\n",
       "      <td>-0.013343</td>\n",
       "      <td>-0.013343</td>\n",
       "      <td>-0.013343</td>\n",
       "      <td>-0.013343</td>\n",
       "      <td>287</td>\n",
       "    </tr>\n",
       "    <tr>\n",
       "      <th>3000004</th>\n",
       "      <td>pair_22</td>\n",
       "      <td>451030.0</td>\n",
       "      <td>0.041386</td>\n",
       "      <td>0.041386</td>\n",
       "      <td>0.000000</td>\n",
       "      <td>0.003276</td>\n",
       "      <td>0.000000</td>\n",
       "      <td>0.003276</td>\n",
       "      <td>0.000000</td>\n",
       "      <td>0.000000</td>\n",
       "      <td>...</td>\n",
       "      <td>-0.013343</td>\n",
       "      <td>-0.013343</td>\n",
       "      <td>-0.013343</td>\n",
       "      <td>-0.013343</td>\n",
       "      <td>-0.013343</td>\n",
       "      <td>-0.013343</td>\n",
       "      <td>-0.013343</td>\n",
       "      <td>-0.013343</td>\n",
       "      <td>-0.013343</td>\n",
       "      <td>286</td>\n",
       "    </tr>\n",
       "    <tr>\n",
       "      <th>3000005</th>\n",
       "      <td>pair_22</td>\n",
       "      <td>451035.0</td>\n",
       "      <td>0.041386</td>\n",
       "      <td>0.041386</td>\n",
       "      <td>0.003276</td>\n",
       "      <td>0.000000</td>\n",
       "      <td>0.003276</td>\n",
       "      <td>0.000000</td>\n",
       "      <td>0.000000</td>\n",
       "      <td>0.000000</td>\n",
       "      <td>...</td>\n",
       "      <td>-0.013343</td>\n",
       "      <td>-0.013343</td>\n",
       "      <td>-0.013343</td>\n",
       "      <td>-0.013343</td>\n",
       "      <td>-0.013343</td>\n",
       "      <td>-0.013343</td>\n",
       "      <td>-0.013343</td>\n",
       "      <td>-0.013343</td>\n",
       "      <td>-0.013343</td>\n",
       "      <td>285</td>\n",
       "    </tr>\n",
       "  </tbody>\n",
       "</table>\n",
       "<p>5 rows × 1157 columns</p>\n",
       "</div>"
      ],
      "text/plain": [
       "        keys_pair  enterTime  model_prediction  enterPrice         1  \\\n",
       "3000001   pair_22   451015.0          0.041386    0.041386  0.000000   \n",
       "3000002   pair_22   451020.0          0.041386    0.041386  0.000000   \n",
       "3000003   pair_22   451025.0          0.041386    0.041386  0.000000   \n",
       "3000004   pair_22   451030.0          0.041386    0.041386  0.000000   \n",
       "3000005   pair_22   451035.0          0.041386    0.041386  0.003276   \n",
       "\n",
       "                2         3         4         5         6  ...      1144  \\\n",
       "3000001  0.000000  0.000000  0.000000  0.003276  0.000000  ... -0.015521   \n",
       "3000002  0.000000  0.000000  0.003276  0.000000  0.003276  ... -0.013343   \n",
       "3000003  0.000000  0.003276  0.000000  0.003276  0.000000  ... -0.013343   \n",
       "3000004  0.003276  0.000000  0.003276  0.000000  0.000000  ... -0.013343   \n",
       "3000005  0.000000  0.003276  0.000000  0.000000  0.000000  ... -0.013343   \n",
       "\n",
       "             1145      1146      1147      1148      1149      1150      1151  \\\n",
       "3000001 -0.013343 -0.013343 -0.013343 -0.013343 -0.013343 -0.013343 -0.013343   \n",
       "3000002 -0.013343 -0.013343 -0.013343 -0.013343 -0.013343 -0.013343 -0.013343   \n",
       "3000003 -0.013343 -0.013343 -0.013343 -0.013343 -0.013343 -0.013343 -0.013343   \n",
       "3000004 -0.013343 -0.013343 -0.013343 -0.013343 -0.013343 -0.013343 -0.013343   \n",
       "3000005 -0.013343 -0.013343 -0.013343 -0.013343 -0.013343 -0.013343 -0.013343   \n",
       "\n",
       "             1152  d_id_max  \n",
       "3000001 -0.013343       289  \n",
       "3000002 -0.013343       288  \n",
       "3000003 -0.013343       287  \n",
       "3000004 -0.013343       286  \n",
       "3000005 -0.013343       285  \n",
       "\n",
       "[5 rows x 1157 columns]"
      ]
     },
     "execution_count": 1390,
     "metadata": {},
     "output_type": "execute_result"
    }
   ],
   "source": [
    "difference_df.head()"
   ]
  },
  {
   "cell_type": "code",
   "execution_count": 1391,
   "metadata": {
    "collapsed": true
   },
   "outputs": [],
   "source": [
    "difference_df =difference_df.fillna(0)"
   ]
  },
  {
   "cell_type": "code",
   "execution_count": 1394,
   "metadata": {
    "collapsed": true
   },
   "outputs": [],
   "source": [
    "df1 = difference_df.iloc[:, 5:1156]\n",
    "mask = df1.le(difference_df['enterPrice']* -0.05, axis=0)\n",
    "difference_df['d_id_max'] = np.where(mask.all(axis=1), mask.idxmax(axis=1), df1.idxmax(axis=1))"
   ]
  },
  {
   "cell_type": "code",
   "execution_count": 1396,
   "metadata": {
    "collapsed": true
   },
   "outputs": [],
   "source": [
    "difference_df[\"d_id_max\"] = difference_df[\"d_id_max\"].astype('int64')"
   ]
  },
  {
   "cell_type": "code",
   "execution_count": 1397,
   "metadata": {},
   "outputs": [
    {
     "name": "stderr",
     "output_type": "stream",
     "text": [
      "C:\\Users\\saurabh\\Anaconda3\\lib\\site-packages\\pandas\\core\\indexing.py:1017: FutureWarning: \n",
      "Passing list-likes to .loc or [] with any missing label will raise\n",
      "KeyError in the future, you can use .reindex() as an alternative.\n",
      "\n",
      "See the documentation here:\n",
      "https://pandas.pydata.org/pandas-docs/stable/indexing.html#deprecate-loc-reindex-listlike\n",
      "  return getattr(section, self.name)[new_key]\n"
     ]
    }
   ],
   "source": [
    "difference_df['exitTime'] = difference_df.loc[difference_df.index + difference_df.d_id_max, 'enterTime'].to_numpy()"
   ]
  },
  {
   "cell_type": "code",
   "execution_count": 1398,
   "metadata": {
    "collapsed": true
   },
   "outputs": [],
   "source": [
    "difference_df['exitPrice'] = difference_df.loc[difference_df.index + difference_df.d_id_max, 'model_prediction'].to_numpy()"
   ]
  },
  {
   "cell_type": "code",
   "execution_count": 1399,
   "metadata": {
    "collapsed": true
   },
   "outputs": [],
   "source": [
    "difference_df['loss_gain'] = difference_df['exitPrice']- difference_df['model_prediction'] "
   ]
  },
  {
   "cell_type": "code",
   "execution_count": 1400,
   "metadata": {
    "collapsed": true
   },
   "outputs": [],
   "source": [
    "difference_df['percentage_gain(%)'] = (difference_df['loss_gain']/difference_df['model_prediction'])* 100"
   ]
  },
  {
   "cell_type": "code",
   "execution_count": 1401,
   "metadata": {
    "collapsed": true
   },
   "outputs": [],
   "source": [
    "difference_df['trading_fee'] = (difference_df['model_prediction']  +  difference_df['exitPrice']) * 0.0015"
   ]
  },
  {
   "cell_type": "code",
   "execution_count": 1428,
   "metadata": {
    "collapsed": true
   },
   "outputs": [],
   "source": [
    "difference_df['loss_gain_after_trading_fee'] = difference_df['loss_gain'] - difference_df['trading_fee']"
   ]
  },
  {
   "cell_type": "code",
   "execution_count": 1430,
   "metadata": {
    "collapsed": true
   },
   "outputs": [],
   "source": [
    "difference_df['percentage_gain(%)_after_trading_fee'] = (difference_df['loss_gain_after_trading_fee']/difference_df['enterPrice'])* 100"
   ]
  },
  {
   "cell_type": "code",
   "execution_count": 1431,
   "metadata": {},
   "outputs": [
    {
     "data": {
      "text/html": [
       "<div>\n",
       "<style scoped>\n",
       "    .dataframe tbody tr th:only-of-type {\n",
       "        vertical-align: middle;\n",
       "    }\n",
       "\n",
       "    .dataframe tbody tr th {\n",
       "        vertical-align: top;\n",
       "    }\n",
       "\n",
       "    .dataframe thead th {\n",
       "        text-align: right;\n",
       "    }\n",
       "</style>\n",
       "<table border=\"1\" class=\"dataframe\">\n",
       "  <thead>\n",
       "    <tr style=\"text-align: right;\">\n",
       "      <th></th>\n",
       "      <th>keys_pair</th>\n",
       "      <th>enterPrice</th>\n",
       "      <th>exitPrice</th>\n",
       "      <th>enterTime</th>\n",
       "      <th>exitTime</th>\n",
       "      <th>loss_gain</th>\n",
       "      <th>percentage_gain(%)</th>\n",
       "      <th>trading_fee</th>\n",
       "      <th>direction</th>\n",
       "      <th>percentPair</th>\n",
       "      <th>strategyName</th>\n",
       "      <th>loss_gain_after_trading_fee</th>\n",
       "      <th>percentage_gain(%)_after_trading_fee</th>\n",
       "    </tr>\n",
       "  </thead>\n",
       "  <tbody>\n",
       "    <tr>\n",
       "      <th>3000001</th>\n",
       "      <td>pair_22</td>\n",
       "      <td>0.041386</td>\n",
       "      <td>0.565622</td>\n",
       "      <td>451015.0</td>\n",
       "      <td>452460.0</td>\n",
       "      <td>0.524236</td>\n",
       "      <td>1266.686792</td>\n",
       "      <td>0.000911</td>\n",
       "      <td>1</td>\n",
       "      <td>1</td>\n",
       "      <td>myStrategy</td>\n",
       "      <td>0.523325</td>\n",
       "      <td>1264.486761</td>\n",
       "    </tr>\n",
       "    <tr>\n",
       "      <th>3000002</th>\n",
       "      <td>pair_22</td>\n",
       "      <td>0.041386</td>\n",
       "      <td>0.565622</td>\n",
       "      <td>451020.0</td>\n",
       "      <td>452460.0</td>\n",
       "      <td>0.524236</td>\n",
       "      <td>1266.686792</td>\n",
       "      <td>0.000911</td>\n",
       "      <td>1</td>\n",
       "      <td>1</td>\n",
       "      <td>myStrategy</td>\n",
       "      <td>0.523325</td>\n",
       "      <td>1264.486761</td>\n",
       "    </tr>\n",
       "    <tr>\n",
       "      <th>3000003</th>\n",
       "      <td>pair_22</td>\n",
       "      <td>0.041386</td>\n",
       "      <td>0.565622</td>\n",
       "      <td>451025.0</td>\n",
       "      <td>452460.0</td>\n",
       "      <td>0.524236</td>\n",
       "      <td>1266.686792</td>\n",
       "      <td>0.000911</td>\n",
       "      <td>1</td>\n",
       "      <td>1</td>\n",
       "      <td>myStrategy</td>\n",
       "      <td>0.523325</td>\n",
       "      <td>1264.486761</td>\n",
       "    </tr>\n",
       "    <tr>\n",
       "      <th>3000004</th>\n",
       "      <td>pair_22</td>\n",
       "      <td>0.041386</td>\n",
       "      <td>0.565622</td>\n",
       "      <td>451030.0</td>\n",
       "      <td>452460.0</td>\n",
       "      <td>0.524236</td>\n",
       "      <td>1266.686792</td>\n",
       "      <td>0.000911</td>\n",
       "      <td>1</td>\n",
       "      <td>1</td>\n",
       "      <td>myStrategy</td>\n",
       "      <td>0.523325</td>\n",
       "      <td>1264.486761</td>\n",
       "    </tr>\n",
       "    <tr>\n",
       "      <th>3000005</th>\n",
       "      <td>pair_22</td>\n",
       "      <td>0.041386</td>\n",
       "      <td>0.565622</td>\n",
       "      <td>451035.0</td>\n",
       "      <td>452460.0</td>\n",
       "      <td>0.524236</td>\n",
       "      <td>1266.686792</td>\n",
       "      <td>0.000911</td>\n",
       "      <td>1</td>\n",
       "      <td>1</td>\n",
       "      <td>myStrategy</td>\n",
       "      <td>0.523325</td>\n",
       "      <td>1264.486761</td>\n",
       "    </tr>\n",
       "  </tbody>\n",
       "</table>\n",
       "</div>"
      ],
      "text/plain": [
       "        keys_pair  enterPrice  exitPrice  enterTime  exitTime  loss_gain  \\\n",
       "3000001   pair_22    0.041386   0.565622   451015.0  452460.0   0.524236   \n",
       "3000002   pair_22    0.041386   0.565622   451020.0  452460.0   0.524236   \n",
       "3000003   pair_22    0.041386   0.565622   451025.0  452460.0   0.524236   \n",
       "3000004   pair_22    0.041386   0.565622   451030.0  452460.0   0.524236   \n",
       "3000005   pair_22    0.041386   0.565622   451035.0  452460.0   0.524236   \n",
       "\n",
       "         percentage_gain(%)  trading_fee  direction  percentPair strategyName  \\\n",
       "3000001         1266.686792     0.000911          1            1   myStrategy   \n",
       "3000002         1266.686792     0.000911          1            1   myStrategy   \n",
       "3000003         1266.686792     0.000911          1            1   myStrategy   \n",
       "3000004         1266.686792     0.000911          1            1   myStrategy   \n",
       "3000005         1266.686792     0.000911          1            1   myStrategy   \n",
       "\n",
       "         loss_gain_after_trading_fee  percentage_gain(%)_after_trading_fee  \n",
       "3000001                     0.523325                           1264.486761  \n",
       "3000002                     0.523325                           1264.486761  \n",
       "3000003                     0.523325                           1264.486761  \n",
       "3000004                     0.523325                           1264.486761  \n",
       "3000005                     0.523325                           1264.486761  "
      ]
     },
     "execution_count": 1431,
     "metadata": {},
     "output_type": "execute_result"
    }
   ],
   "source": [
    "difference_df.head()"
   ]
  },
  {
   "cell_type": "code",
   "execution_count": 1432,
   "metadata": {
    "collapsed": true
   },
   "outputs": [],
   "source": [
    "col_list = ['keys_pair', 'enterPrice', 'exitPrice','enterTime', 'exitTime', 'loss_gain_after_trading_fee', 'percentage_gain(%)_after_trading_fee' ]"
   ]
  },
  {
   "cell_type": "code",
   "execution_count": 1433,
   "metadata": {
    "collapsed": true
   },
   "outputs": [],
   "source": [
    "difference_df = difference_df[col_list]"
   ]
  },
  {
   "cell_type": "code",
   "execution_count": 1434,
   "metadata": {},
   "outputs": [
    {
     "name": "stderr",
     "output_type": "stream",
     "text": [
      "C:\\Users\\saurabh\\Anaconda3\\lib\\site-packages\\ipykernel_launcher.py:5: SettingWithCopyWarning: \n",
      "A value is trying to be set on a copy of a slice from a DataFrame.\n",
      "Try using .loc[row_indexer,col_indexer] = value instead\n",
      "\n",
      "See the caveats in the documentation: http://pandas.pydata.org/pandas-docs/stable/indexing.html#indexing-view-versus-copy\n",
      "  \"\"\"\n",
      "C:\\Users\\saurabh\\Anaconda3\\lib\\site-packages\\ipykernel_launcher.py:6: SettingWithCopyWarning: \n",
      "A value is trying to be set on a copy of a slice from a DataFrame.\n",
      "Try using .loc[row_indexer,col_indexer] = value instead\n",
      "\n",
      "See the caveats in the documentation: http://pandas.pydata.org/pandas-docs/stable/indexing.html#indexing-view-versus-copy\n",
      "  \n",
      "C:\\Users\\saurabh\\Anaconda3\\lib\\site-packages\\ipykernel_launcher.py:7: SettingWithCopyWarning: \n",
      "A value is trying to be set on a copy of a slice from a DataFrame.\n",
      "Try using .loc[row_indexer,col_indexer] = value instead\n",
      "\n",
      "See the caveats in the documentation: http://pandas.pydata.org/pandas-docs/stable/indexing.html#indexing-view-versus-copy\n",
      "  import sys\n"
     ]
    }
   ],
   "source": [
    "direction = [1]\n",
    "percentPair = [1]\n",
    "strategyName = ['myStrategy']\n",
    "\n",
    "difference_df['direction'] = np.repeat(direction,len(difference_df))\n",
    "difference_df['percentPair'] = np.repeat(percentPair,len(difference_df))\n",
    "difference_df['strategyName'] = np.repeat(strategyName,len(difference_df))"
   ]
  },
  {
   "cell_type": "code",
   "execution_count": 1435,
   "metadata": {},
   "outputs": [
    {
     "name": "stderr",
     "output_type": "stream",
     "text": [
      "C:\\Users\\saurabh\\Anaconda3\\lib\\site-packages\\ipykernel_launcher.py:1: SettingWithCopyWarning: \n",
      "A value is trying to be set on a copy of a slice from a DataFrame.\n",
      "Try using .loc[row_indexer,col_indexer] = value instead\n",
      "\n",
      "See the caveats in the documentation: http://pandas.pydata.org/pandas-docs/stable/indexing.html#indexing-view-versus-copy\n",
      "  \"\"\"Entry point for launching an IPython kernel.\n"
     ]
    }
   ],
   "source": [
    "difference_df['loss_gain_after_trading_fee'] = difference_df[difference_df['loss_gain_after_trading_fee'] > 0]['loss_gain_after_trading_fee']\n",
    "difference_df = difference_df.dropna()"
   ]
  },
  {
   "cell_type": "code",
   "execution_count": 1436,
   "metadata": {},
   "outputs": [
    {
     "data": {
      "text/html": [
       "<div>\n",
       "<style scoped>\n",
       "    .dataframe tbody tr th:only-of-type {\n",
       "        vertical-align: middle;\n",
       "    }\n",
       "\n",
       "    .dataframe tbody tr th {\n",
       "        vertical-align: top;\n",
       "    }\n",
       "\n",
       "    .dataframe thead th {\n",
       "        text-align: right;\n",
       "    }\n",
       "</style>\n",
       "<table border=\"1\" class=\"dataframe\">\n",
       "  <thead>\n",
       "    <tr style=\"text-align: right;\">\n",
       "      <th></th>\n",
       "      <th>keys_pair</th>\n",
       "      <th>enterPrice</th>\n",
       "      <th>exitPrice</th>\n",
       "      <th>enterTime</th>\n",
       "      <th>exitTime</th>\n",
       "      <th>loss_gain_after_trading_fee</th>\n",
       "      <th>percentage_gain(%)_after_trading_fee</th>\n",
       "      <th>direction</th>\n",
       "      <th>percentPair</th>\n",
       "      <th>strategyName</th>\n",
       "    </tr>\n",
       "  </thead>\n",
       "  <tbody>\n",
       "    <tr>\n",
       "      <th>3000001</th>\n",
       "      <td>pair_22</td>\n",
       "      <td>0.041386</td>\n",
       "      <td>0.565622</td>\n",
       "      <td>451015.0</td>\n",
       "      <td>452460.0</td>\n",
       "      <td>0.523325</td>\n",
       "      <td>1264.486761</td>\n",
       "      <td>1</td>\n",
       "      <td>1</td>\n",
       "      <td>myStrategy</td>\n",
       "    </tr>\n",
       "    <tr>\n",
       "      <th>3000002</th>\n",
       "      <td>pair_22</td>\n",
       "      <td>0.041386</td>\n",
       "      <td>0.565622</td>\n",
       "      <td>451020.0</td>\n",
       "      <td>452460.0</td>\n",
       "      <td>0.523325</td>\n",
       "      <td>1264.486761</td>\n",
       "      <td>1</td>\n",
       "      <td>1</td>\n",
       "      <td>myStrategy</td>\n",
       "    </tr>\n",
       "    <tr>\n",
       "      <th>3000003</th>\n",
       "      <td>pair_22</td>\n",
       "      <td>0.041386</td>\n",
       "      <td>0.565622</td>\n",
       "      <td>451025.0</td>\n",
       "      <td>452460.0</td>\n",
       "      <td>0.523325</td>\n",
       "      <td>1264.486761</td>\n",
       "      <td>1</td>\n",
       "      <td>1</td>\n",
       "      <td>myStrategy</td>\n",
       "    </tr>\n",
       "    <tr>\n",
       "      <th>3000004</th>\n",
       "      <td>pair_22</td>\n",
       "      <td>0.041386</td>\n",
       "      <td>0.565622</td>\n",
       "      <td>451030.0</td>\n",
       "      <td>452460.0</td>\n",
       "      <td>0.523325</td>\n",
       "      <td>1264.486761</td>\n",
       "      <td>1</td>\n",
       "      <td>1</td>\n",
       "      <td>myStrategy</td>\n",
       "    </tr>\n",
       "    <tr>\n",
       "      <th>3000005</th>\n",
       "      <td>pair_22</td>\n",
       "      <td>0.041386</td>\n",
       "      <td>0.565622</td>\n",
       "      <td>451035.0</td>\n",
       "      <td>452460.0</td>\n",
       "      <td>0.523325</td>\n",
       "      <td>1264.486761</td>\n",
       "      <td>1</td>\n",
       "      <td>1</td>\n",
       "      <td>myStrategy</td>\n",
       "    </tr>\n",
       "    <tr>\n",
       "      <th>3000006</th>\n",
       "      <td>pair_22</td>\n",
       "      <td>0.044662</td>\n",
       "      <td>0.565622</td>\n",
       "      <td>451040.0</td>\n",
       "      <td>452460.0</td>\n",
       "      <td>0.520044</td>\n",
       "      <td>1164.399694</td>\n",
       "      <td>1</td>\n",
       "      <td>1</td>\n",
       "      <td>myStrategy</td>\n",
       "    </tr>\n",
       "    <tr>\n",
       "      <th>3000007</th>\n",
       "      <td>pair_22</td>\n",
       "      <td>0.041386</td>\n",
       "      <td>0.565622</td>\n",
       "      <td>451045.0</td>\n",
       "      <td>452460.0</td>\n",
       "      <td>0.523325</td>\n",
       "      <td>1264.486761</td>\n",
       "      <td>1</td>\n",
       "      <td>1</td>\n",
       "      <td>myStrategy</td>\n",
       "    </tr>\n",
       "    <tr>\n",
       "      <th>3000008</th>\n",
       "      <td>pair_22</td>\n",
       "      <td>0.044662</td>\n",
       "      <td>0.565622</td>\n",
       "      <td>451050.0</td>\n",
       "      <td>452460.0</td>\n",
       "      <td>0.520044</td>\n",
       "      <td>1164.399694</td>\n",
       "      <td>1</td>\n",
       "      <td>1</td>\n",
       "      <td>myStrategy</td>\n",
       "    </tr>\n",
       "    <tr>\n",
       "      <th>3000009</th>\n",
       "      <td>pair_22</td>\n",
       "      <td>0.041386</td>\n",
       "      <td>0.565622</td>\n",
       "      <td>451055.0</td>\n",
       "      <td>452460.0</td>\n",
       "      <td>0.523325</td>\n",
       "      <td>1264.486761</td>\n",
       "      <td>1</td>\n",
       "      <td>1</td>\n",
       "      <td>myStrategy</td>\n",
       "    </tr>\n",
       "    <tr>\n",
       "      <th>3000010</th>\n",
       "      <td>pair_22</td>\n",
       "      <td>0.041386</td>\n",
       "      <td>0.565622</td>\n",
       "      <td>451060.0</td>\n",
       "      <td>452460.0</td>\n",
       "      <td>0.523325</td>\n",
       "      <td>1264.486761</td>\n",
       "      <td>1</td>\n",
       "      <td>1</td>\n",
       "      <td>myStrategy</td>\n",
       "    </tr>\n",
       "  </tbody>\n",
       "</table>\n",
       "</div>"
      ],
      "text/plain": [
       "        keys_pair  enterPrice  exitPrice  enterTime  exitTime  \\\n",
       "3000001   pair_22    0.041386   0.565622   451015.0  452460.0   \n",
       "3000002   pair_22    0.041386   0.565622   451020.0  452460.0   \n",
       "3000003   pair_22    0.041386   0.565622   451025.0  452460.0   \n",
       "3000004   pair_22    0.041386   0.565622   451030.0  452460.0   \n",
       "3000005   pair_22    0.041386   0.565622   451035.0  452460.0   \n",
       "3000006   pair_22    0.044662   0.565622   451040.0  452460.0   \n",
       "3000007   pair_22    0.041386   0.565622   451045.0  452460.0   \n",
       "3000008   pair_22    0.044662   0.565622   451050.0  452460.0   \n",
       "3000009   pair_22    0.041386   0.565622   451055.0  452460.0   \n",
       "3000010   pair_22    0.041386   0.565622   451060.0  452460.0   \n",
       "\n",
       "         loss_gain_after_trading_fee  percentage_gain(%)_after_trading_fee  \\\n",
       "3000001                     0.523325                           1264.486761   \n",
       "3000002                     0.523325                           1264.486761   \n",
       "3000003                     0.523325                           1264.486761   \n",
       "3000004                     0.523325                           1264.486761   \n",
       "3000005                     0.523325                           1264.486761   \n",
       "3000006                     0.520044                           1164.399694   \n",
       "3000007                     0.523325                           1264.486761   \n",
       "3000008                     0.520044                           1164.399694   \n",
       "3000009                     0.523325                           1264.486761   \n",
       "3000010                     0.523325                           1264.486761   \n",
       "\n",
       "         direction  percentPair strategyName  \n",
       "3000001          1            1   myStrategy  \n",
       "3000002          1            1   myStrategy  \n",
       "3000003          1            1   myStrategy  \n",
       "3000004          1            1   myStrategy  \n",
       "3000005          1            1   myStrategy  \n",
       "3000006          1            1   myStrategy  \n",
       "3000007          1            1   myStrategy  \n",
       "3000008          1            1   myStrategy  \n",
       "3000009          1            1   myStrategy  \n",
       "3000010          1            1   myStrategy  "
      ]
     },
     "execution_count": 1436,
     "metadata": {},
     "output_type": "execute_result"
    }
   ],
   "source": [
    "difference_df.head(10)"
   ]
  },
  {
   "cell_type": "code",
   "execution_count": 1439,
   "metadata": {},
   "outputs": [
    {
     "data": {
      "text/plain": [
       "<matplotlib.axes._subplots.AxesSubplot at 0x1df2051d198>"
      ]
     },
     "execution_count": 1439,
     "metadata": {},
     "output_type": "execute_result"
    },
    {
     "data": {
      "image/png": "[encoded data removed]",
      "text/plain": [
       "<Figure size 432x288 with 1 Axes>"
      ]
     },
     "metadata": {
      "needs_background": "light"
     },
     "output_type": "display_data"
    }
   ],
   "source": [
    "mean = np.mean(difference_df['percentage_gain(%)_after_trading_fee'], axis=0)\n",
    "sd = np.std(difference_df['percentage_gain(%)_after_trading_fee'], axis=0)\n",
    "final_list = [x for x in difference_df['percentage_gain(%)_after_trading_fee'] if (x > mean - 2 * sd)]\n",
    "final_list = [x for x in final_list if (x < mean + 2 * sd)]\n",
    "sns.distplot(final_list)"
   ]
  },
  {
   "cell_type": "code",
   "execution_count": 1444,
   "metadata": {},
   "outputs": [
    {
     "name": "stdout",
     "output_type": "stream",
     "text": [
      "46235000.88852434\n"
     ]
    }
   ],
   "source": [
    "TPG = difference_df['percentage_gain(%)_after_trading_fee'].sum()\n",
    "print(TPG)"
   ]
  },
  {
   "cell_type": "code",
   "execution_count": 1406,
   "metadata": {
    "collapsed": true
   },
   "outputs": [],
   "source": [
    "col_list = ['keys_pair', 'enterTime', 'exitTime', 'direction', 'percentPair', 'strategyName']\n",
    "\n",
    "submission_df = pd.DataFrame()\n",
    "submission_df = difference_df[col_list]"
   ]
  },
  {
   "cell_type": "code",
   "execution_count": 1407,
   "metadata": {},
   "outputs": [
    {
     "name": "stderr",
     "output_type": "stream",
     "text": [
      "C:\\Users\\saurabh\\Anaconda3\\lib\\site-packages\\ipykernel_launcher.py:1: SettingWithCopyWarning: \n",
      "A value is trying to be set on a copy of a slice from a DataFrame.\n",
      "Try using .loc[row_indexer,col_indexer] = value instead\n",
      "\n",
      "See the caveats in the documentation: http://pandas.pydata.org/pandas-docs/stable/indexing.html#indexing-view-versus-copy\n",
      "  \"\"\"Entry point for launching an IPython kernel.\n",
      "C:\\Users\\saurabh\\Anaconda3\\lib\\site-packages\\ipykernel_launcher.py:2: SettingWithCopyWarning: \n",
      "A value is trying to be set on a copy of a slice from a DataFrame.\n",
      "Try using .loc[row_indexer,col_indexer] = value instead\n",
      "\n",
      "See the caveats in the documentation: http://pandas.pydata.org/pandas-docs/stable/indexing.html#indexing-view-versus-copy\n",
      "  \n"
     ]
    }
   ],
   "source": [
    "submission_df['enterTime'] = submission_df['enterTime'].astype('int')\n",
    "submission_df['exitTime'] = submission_df['exitTime'].astype('int')"
   ]
  },
  {
   "cell_type": "code",
   "execution_count": 1371,
   "metadata": {
    "collapsed": true
   },
   "outputs": [],
   "source": [
    "submission_df.to_csv(\"C:/Users/saurabh/Desktop/Datathon_submission/submission_df_31.csv\")"
   ]
  }
 ],
 "metadata": {
  "kernelspec": {
   "display_name": "Python 3",
   "language": "python",
   "name": "python3"
  },
  "language_info": {
   "codemirror_mode": {
    "name": "ipython",
    "version": 3
   },
   "file_extension": ".py",
   "mimetype": "text/x-python",
   "name": "python",
   "nbconvert_exporter": "python",
   "pygments_lexer": "ipython3",
   "version": "3.7.3"
  },
  "toc": {
   "base_numbering": 1,
   "nav_menu": {},
   "number_sections": true,
   "sideBar": true,
   "skip_h1_title": false,
   "title_cell": "Table of Contents",
   "title_sidebar": "Contents",
   "toc_cell": false,
   "toc_position": {},
   "toc_section_display": true,
   "toc_window_display": false
  }
 },
 "nbformat": 4,
 "nbformat_minor": 2
}
